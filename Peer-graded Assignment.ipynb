{
    "cells": [
        {
            "cell_type": "markdown",
            "metadata": {
                "collapsed": true
            },
            "source": "# My Jupyter Notebook on IBM Watson Studio"
        },
        {
            "cell_type": "markdown",
            "metadata": {},
            "source": "**Simon Aman**         \nEducator"
        },
        {
            "cell_type": "markdown",
            "metadata": {},
            "source": "*I am interested in data science because of my academic background in statistics and mathematics coupled with my current interest in the field of education. I believe the vast amount of data available will be helpful for advancing education for all.*"
        },
        {
            "cell_type": "markdown",
            "metadata": {},
            "source": "### The code below uses the Pythagorean formula to find the longest side, c,  the hypotenuse of a right triangle with two sides of a = 2 and b = 3.  "
        },
        {
            "cell_type": "code",
            "execution_count": 1,
            "metadata": {},
            "outputs": [
                {
                    "data": {
                        "text/plain": "3.605551275463989"
                    },
                    "execution_count": 1,
                    "metadata": {},
                    "output_type": "execute_result"
                }
            ],
            "source": "import math    # A library used for square-root computation\na = 2\nb = 3\nc = math.sqrt(a**2 + b**2)\nc"
        },
        {
            "cell_type": "markdown",
            "metadata": {},
            "source": "[John Hopikns Covid-19 info](https://coronavirus.jhu.edu/map.html) \n\nconfirmed cases as of July 19\n\n1. US 3,762,081\n2. Brazil 2,098,389\n3. India 1,077,781\n\nConfirmed deaths as of July 19\n\n* US 140,474\n- Brazil 79,488\n+ UK 45,385"
        },
        {
            "cell_type": "code",
            "execution_count": null,
            "metadata": {},
            "outputs": [],
            "source": ""
        }
    ],
    "metadata": {
        "kernelspec": {
            "display_name": "Python 3.6",
            "language": "python",
            "name": "python3"
        },
        "language_info": {
            "codemirror_mode": {
                "name": "ipython",
                "version": 3
            },
            "file_extension": ".py",
            "mimetype": "text/x-python",
            "name": "python",
            "nbconvert_exporter": "python",
            "pygments_lexer": "ipython3",
            "version": "3.6.9"
        }
    },
    "nbformat": 4,
    "nbformat_minor": 1
}